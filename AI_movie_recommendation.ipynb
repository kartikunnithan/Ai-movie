{
  "nbformat": 4,
  "nbformat_minor": 0,
  "metadata": {
    "colab": {
      "provenance": [],
      "authorship_tag": "ABX9TyP/i42hAR70dHEEoBeoyh2A",
      "include_colab_link": true
    },
    "kernelspec": {
      "name": "python3",
      "display_name": "Python 3"
    },
    "language_info": {
      "name": "python"
    }
  },
  "cells": [
    {
      "cell_type": "markdown",
      "metadata": {
        "id": "view-in-github",
        "colab_type": "text"
      },
      "source": [
        "<a href=\"https://colab.research.google.com/github/kartikunnithan/Ai-movie/blob/main/AI_movie_recommendation.ipynb\" target=\"_parent\"><img src=\"https://colab.research.google.com/assets/colab-badge.svg\" alt=\"Open In Colab\"/></a>"
      ]
    },
    {
      "cell_type": "code",
      "execution_count": 2,
      "metadata": {
        "colab": {
          "base_uri": "https://localhost:8080/"
        },
        "id": "ZuSXx_lvVtlb",
        "outputId": "89ebfc04-70a6-4636-e814-f446788ef569"
      },
      "outputs": [
        {
          "output_type": "stream",
          "name": "stdout",
          "text": [
            "Requirement already satisfied: textblob in /usr/local/lib/python3.11/dist-packages (0.19.0)\n",
            "Requirement already satisfied: nltk>=3.9 in /usr/local/lib/python3.11/dist-packages (from textblob) (3.9.1)\n",
            "Requirement already satisfied: click in /usr/local/lib/python3.11/dist-packages (from nltk>=3.9->textblob) (8.1.8)\n",
            "Requirement already satisfied: joblib in /usr/local/lib/python3.11/dist-packages (from nltk>=3.9->textblob) (1.4.2)\n",
            "Requirement already satisfied: regex>=2021.8.3 in /usr/local/lib/python3.11/dist-packages (from nltk>=3.9->textblob) (2024.11.6)\n",
            "Requirement already satisfied: tqdm in /usr/local/lib/python3.11/dist-packages (from nltk>=3.9->textblob) (4.67.1)\n",
            "[nltk_data] Downloading package brown to /root/nltk_data...\n",
            "[nltk_data]   Package brown is already up-to-date!\n",
            "[nltk_data] Downloading package punkt_tab to /root/nltk_data...\n",
            "[nltk_data]   Package punkt_tab is already up-to-date!\n",
            "[nltk_data] Downloading package wordnet to /root/nltk_data...\n",
            "[nltk_data]   Package wordnet is already up-to-date!\n",
            "[nltk_data] Downloading package averaged_perceptron_tagger_eng to\n",
            "[nltk_data]     /root/nltk_data...\n",
            "[nltk_data]   Package averaged_perceptron_tagger_eng is already up-to-\n",
            "[nltk_data]       date!\n",
            "[nltk_data] Downloading package conll2000 to /root/nltk_data...\n",
            "[nltk_data]   Package conll2000 is already up-to-date!\n",
            "[nltk_data] Downloading package movie_reviews to /root/nltk_data...\n",
            "[nltk_data]   Package movie_reviews is already up-to-date!\n",
            "Finished.\n"
          ]
        }
      ],
      "source": [
        "!pip install textblob\n",
        "!python -m textblob.download_corpora\n"
      ]
    },
    {
      "cell_type": "code",
      "source": [
        "import pandas as pd\n",
        "from textblob import TextBlob"
      ],
      "metadata": {
        "id": "wPCP-cyfWVbt"
      },
      "execution_count": 3,
      "outputs": []
    },
    {
      "cell_type": "code",
      "source": [
        "data = {\n",
        "    \"Series_Title\":[\n",
        "        \"Cobra kai\", \"The unlisted\", \"Game of thrones\", \"The rookie\", \"Adolescence\", \"The flash\", \"The young sheldon\", \"Big bang theory\", \"One piece\", \"Percy Jackson\", \"Harry Potter\"\n",
        "    ],\n",
        "    \"Genre\": [\n",
        "        \"Action, Comedy\", \"sci-Fi\", \"Action\", \"Crime\", \"Crime\", \"Drama, Action\", \"Drama,Action\", \"Comedy\", \"Comdedy\",\"Action\", \"Fantasy\"\n",
        "    ],\n",
        "    \"Overview\": [\n",
        "        \"Teen karate fighters try to beat the bullies of the world\",\n",
        "        \"Two brothers solve the dangerous mysteries of their school\",\n",
        "        \"Dragons and other mythologycal creatures in the real world\",\n",
        "        \"Few cops just doing their job\",\n",
        "        \"A boy is committed for murder\",\n",
        "        \"A hero saves the world\",\n",
        "        \"A family filled eith funny twists\",\n",
        "        \"Sheldon cooper as a nobel price winner\",\n",
        "        \"An anime related to fruits giving different powers\",\n",
        "        \"A boy finds out his dad is the god of sea and goes for quests to save the world\",\n",
        "        \"A boy with extraordinary powers tries to kill the most dangerous wizard of all time\"\n",
        "    ]\n",
        "}"
      ],
      "metadata": {
        "id": "4yWKc3xnWhJu"
      },
      "execution_count": 6,
      "outputs": []
    },
    {
      "cell_type": "code",
      "source": [
        "df=pd.DataFrame(data)"
      ],
      "metadata": {
        "id": "XT6SyXLfag1u"
      },
      "execution_count": 7,
      "outputs": []
    },
    {
      "cell_type": "code",
      "source": [
        "def recommend(genre, mood):\n",
        "  mood_score = TextBlob(mood).sentiment.polarity\n",
        "  results = []\n",
        "  for _, row in df.iterrows():\n",
        "    if genre.lower() in row['Genre'].lower():\n",
        "      overview_score=TextBlob(row['Overview']).sentiment.polarity\n",
        "      if (mood_score >= 0 and overview_score >=0) or (mood_score < 0 and overview_score < 0):\n",
        "        results.append(row['Series_Title'])\n",
        "  return results[:5]"
      ],
      "metadata": {
        "id": "8zDbyu4JbBwm"
      },
      "execution_count": 9,
      "outputs": []
    },
    {
      "cell_type": "code",
      "source": [
        "genre=input(\"🎬 Enter a movie genre:\")\n",
        "mood=input(\"😂 How are you felling today?\")\n",
        "recommendations=recommend(genre, mood)\n",
        "print(\"\\n🎉   Movie Recommendations for you:\")\n",
        "if recommendations:\n",
        "  for i,movie in enumerate(recommendations, 1):\n",
        "    print(f\"{i}. {movie}\")\n",
        "else:\n",
        "  print(\"No matching movies found 😔\")\n",
        "\n"
      ],
      "metadata": {
        "colab": {
          "base_uri": "https://localhost:8080/"
        },
        "id": "nAPYL-MnbJaV",
        "outputId": "1755d603-439d-4caf-c1f7-e8aff5e2b931"
      },
      "execution_count": 11,
      "outputs": [
        {
          "output_type": "stream",
          "name": "stdout",
          "text": [
            "🎬 Enter a movie genre:comedy\n",
            "😂 How are you felling today?excited\n",
            "\n",
            "🎉   Movie Recommendations for you:\n",
            "1. Cobra kai\n",
            "2. Big bang theory\n"
          ]
        }
      ]
    },
    {
      "cell_type": "code",
      "source": [],
      "metadata": {
        "id": "ZM7zFDF_dylW"
      },
      "execution_count": null,
      "outputs": []
    }
  ]
}